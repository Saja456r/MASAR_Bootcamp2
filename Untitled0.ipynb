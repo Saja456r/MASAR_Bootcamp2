{
  "nbformat": 4,
  "nbformat_minor": 0,
  "metadata": {
    "colab": {
      "provenance": [],
      "authorship_tag": "ABX9TyMuEvd5NfpgjCRa79SNkFMs",
      "include_colab_link": true
    },
    "kernelspec": {
      "name": "python3",
      "display_name": "Python 3"
    },
    "language_info": {
      "name": "python"
    }
  },
  "cells": [
    {
      "cell_type": "markdown",
      "metadata": {
        "id": "view-in-github",
        "colab_type": "text"
      },
      "source": [
        "<a href=\"https://colab.research.google.com/github/Saja456r/MASAR_Bootcamp2/blob/main/Untitled0.ipynb\" target=\"_parent\"><img src=\"https://colab.research.google.com/assets/colab-badge.svg\" alt=\"Open In Colab\"/></a>"
      ]
    },
    {
      "cell_type": "code",
      "source": [
        "1"
      ],
      "metadata": {
        "id": "DEXE_4a0j4Sy"
      },
      "execution_count": null,
      "outputs": []
    },
    {
      "cell_type": "code",
      "source": [
        "a=10\n",
        "b=20\n",
        "\n",
        "# الشرط الثاني يعني انه اذا كانت قيمة المتغير aتساوي 10 وقيمة المتغير bتساوي 20سيتم تنفيذ امر الطباعة\n",
        "if a == 10 and b == 20:\n",
        "  print('The first and the second conditions return True')"
      ],
      "metadata": {
        "colab": {
          "base_uri": "https://localhost:8080/"
        },
        "id": "ZAbX5T0-1zBO",
        "outputId": "7be1dd93-5c3c-46da-88cc-b6cd7467c1a2"
      },
      "execution_count": 1,
      "outputs": [
        {
          "output_type": "stream",
          "name": "stdout",
          "text": [
            "The first and the second conditions return True\n"
          ]
        }
      ]
    },
    {
      "cell_type": "code",
      "source": [
        "x=5\n",
        "\n",
        "print(x>3 or x<4)"
      ],
      "metadata": {
        "colab": {
          "base_uri": "https://localhost:8080/"
        },
        "id": "WqBzb8LN25zE",
        "outputId": "cd0032e9-eafb-4277-d277-7a74a6d0872d"
      },
      "execution_count": 2,
      "outputs": [
        {
          "output_type": "stream",
          "name": "stdout",
          "text": [
            "True\n"
          ]
        }
      ]
    },
    {
      "cell_type": "code",
      "source": [
        "x=5\n",
        "\n",
        "print(x>3 or x<14)"
      ],
      "metadata": {
        "colab": {
          "base_uri": "https://localhost:8080/"
        },
        "id": "6JpIs-_j3bZ2",
        "outputId": "9db6deb5-5368-4f4a-d4ff-568a9d6f4c13"
      },
      "execution_count": 6,
      "outputs": [
        {
          "output_type": "stream",
          "name": "stdout",
          "text": [
            "True\n"
          ]
        }
      ]
    },
    {
      "cell_type": "code",
      "source": [
        "print(not True)"
      ],
      "metadata": {
        "colab": {
          "base_uri": "https://localhost:8080/"
        },
        "id": "zQcxk8SV39Yb",
        "outputId": "ed9f6ebd-bc12-4cc8-c61a-5b1078eb1719"
      },
      "execution_count": 8,
      "outputs": [
        {
          "output_type": "stream",
          "name": "stdout",
          "text": [
            "False\n"
          ]
        }
      ]
    },
    {
      "cell_type": "code",
      "source": [
        "x=5\n",
        "\n",
        "print(not(x>3 and x<10))"
      ],
      "metadata": {
        "colab": {
          "base_uri": "https://localhost:8080/"
        },
        "id": "mqy6L6MK4LDn",
        "outputId": "6c546edf-9b70-4cfa-c923-e72f2401f093"
      },
      "execution_count": 9,
      "outputs": [
        {
          "output_type": "stream",
          "name": "stdout",
          "text": [
            "False\n"
          ]
        }
      ]
    },
    {
      "cell_type": "code",
      "source": [
        "\n",
        "# Example : Using the not operator\n",
        "x = True\n",
        "y = False\n",
        "# The expression not x is True if x is False, and vice versa\n",
        "if not x:\n",
        " print(\"x is False\")\n",
        "else:\n",
        " print(\"x is True\")\n"
      ],
      "metadata": {
        "colab": {
          "base_uri": "https://localhost:8080/"
        },
        "id": "zh1x7Ziv4jty",
        "outputId": "a8b6943c-154a-4d52-a2c4-ac81912fcdd8"
      },
      "execution_count": 16,
      "outputs": [
        {
          "output_type": "stream",
          "name": "stdout",
          "text": [
            "x is True\n"
          ]
        }
      ]
    }
  ]
}